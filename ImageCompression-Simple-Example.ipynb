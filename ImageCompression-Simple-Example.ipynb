{
 "cells": [
  {
   "cell_type": "code",
   "execution_count": 4,
   "id": "f063de13-4ee8-47d2-b0fd-a5ef5ae2f2f4",
   "metadata": {},
   "outputs": [],
   "source": [
    "from PIL import Image\n",
    "\n",
    "# Open the image\n",
    "\n",
    "img = Image.open('/home/nmit/Downloads/pizza.jpg')\n",
    "\n",
    "img.show()"
   ]
  },
  {
   "cell_type": "code",
   "execution_count": 5,
   "id": "a1d72be2-bf26-4529-b0f3-ba8d301f4fc1",
   "metadata": {},
   "outputs": [],
   "source": [
    "# Compress the image\n",
    "\n",
    "img.save('compressed_image.jpg', optimize=True, quality=50)\n",
    "img.show()"
   ]
  }
 ],
 "metadata": {
  "kernelspec": {
   "display_name": "Python 3 (ipykernel)",
   "language": "python",
   "name": "python3"
  },
  "language_info": {
   "codemirror_mode": {
    "name": "ipython",
    "version": 3
   },
   "file_extension": ".py",
   "mimetype": "text/x-python",
   "name": "python",
   "nbconvert_exporter": "python",
   "pygments_lexer": "ipython3",
   "version": "3.11.5"
  }
 },
 "nbformat": 4,
 "nbformat_minor": 5
}
