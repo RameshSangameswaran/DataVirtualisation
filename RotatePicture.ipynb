{
 "cells": [
  {
   "cell_type": "code",
   "execution_count": 1,
   "id": "7535de24-0c4d-4094-a69c-92434c24c57e",
   "metadata": {},
   "outputs": [],
   "source": [
    "import cv2\n",
    " \n",
    "# Reading the image\n",
    "image = cv2.imread('/home/nmit/Downloads/bird.jpg')"
   ]
  },
  {
   "cell_type": "code",
   "execution_count": 2,
   "id": "333d0a01-4b6c-4b1c-ae06-7793473a70d3",
   "metadata": {},
   "outputs": [],
   "source": [
    "# dividing height and width by 2 to get the center of the image\n",
    "height, width = image.shape[:2]"
   ]
  },
  {
   "cell_type": "code",
   "execution_count": 3,
   "id": "790b2320-2f6d-4ae7-bb5a-588486e2a2a8",
   "metadata": {},
   "outputs": [],
   "source": [
    "# get the center coordinates of the image to create the 2D rotation matrix\n",
    "center = (width/2, height/2)"
   ]
  },
  {
   "cell_type": "code",
   "execution_count": 4,
   "id": "684e0278-cd40-4897-890c-6bcf897fd94b",
   "metadata": {},
   "outputs": [],
   "source": [
    "# using cv2.getRotationMatrix2D() to get the rotation matrix\n",
    "rotate_matrix = cv2.getRotationMatrix2D(center=center, angle=45, scale=1)"
   ]
  },
  {
   "cell_type": "code",
   "execution_count": 5,
   "id": "2882e638-8fad-4f36-9e1b-0f627873d10d",
   "metadata": {},
   "outputs": [
    {
     "data": {
      "text/plain": [
       "32"
      ]
     },
     "execution_count": 5,
     "metadata": {},
     "output_type": "execute_result"
    }
   ],
   "source": [
    "# rotate the image using cv2.warpAffine\n",
    "rotated_image = cv2.warpAffine(src=image, M=rotate_matrix, dsize=(width, height))\n",
    "cv2.imshow('Original image', image)\n",
    "cv2.imshow('Rotated image', rotated_image)\n",
    "# wait indefinitely, press any key on keyboard to exit\n",
    "cv2.waitKey(0)"
   ]
  },
  {
   "cell_type": "code",
   "execution_count": 6,
   "id": "97495173-d29c-4a74-97df-5a10377c3a6b",
   "metadata": {},
   "outputs": [
    {
     "data": {
      "text/plain": [
       "True"
      ]
     },
     "execution_count": 6,
     "metadata": {},
     "output_type": "execute_result"
    }
   ],
   "source": [
    "# save the rotated image to disk\n",
    "cv2.imwrite('rotated_image.jpg', rotated_image)"
   ]
  }
 ],
 "metadata": {
  "kernelspec": {
   "display_name": "Python 3 (ipykernel)",
   "language": "python",
   "name": "python3"
  },
  "language_info": {
   "codemirror_mode": {
    "name": "ipython",
    "version": 3
   },
   "file_extension": ".py",
   "mimetype": "text/x-python",
   "name": "python",
   "nbconvert_exporter": "python",
   "pygments_lexer": "ipython3",
   "version": "3.11.5"
  }
 },
 "nbformat": 4,
 "nbformat_minor": 5
}
