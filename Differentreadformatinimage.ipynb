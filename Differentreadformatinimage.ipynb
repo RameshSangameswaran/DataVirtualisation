{
 "cells": [
  {
   "cell_type": "code",
   "execution_count": 1,
   "id": "19b99429-39bb-4271-ac53-33ad71d1d4e8",
   "metadata": {},
   "outputs": [
    {
     "name": "stderr",
     "output_type": "stream",
     "text": [
      "/tmp/ipykernel_57691/336752527.py:1: DeprecationWarning: 'imghdr' is deprecated and slated for removal in Python 3.13\n",
      "  import imghdr\n"
     ]
    }
   ],
   "source": [
    "import imghdr"
   ]
  },
  {
   "cell_type": "code",
   "execution_count": 9,
   "id": "86350994-450b-4d7a-8fa3-e63c09922fb3",
   "metadata": {},
   "outputs": [
    {
     "data": {
      "text/plain": [
       "'jpeg'"
      ]
     },
     "execution_count": 9,
     "metadata": {},
     "output_type": "execute_result"
    }
   ],
   "source": [
    "imghdr.what('/home/nmit/Downloads/bird.jpg')"
   ]
  },
  {
   "cell_type": "code",
   "execution_count": 10,
   "id": "4a938ea6-bcdd-4483-99eb-0641265a84e8",
   "metadata": {},
   "outputs": [
    {
     "data": {
      "text/plain": [
       "'png'"
      ]
     },
     "execution_count": 10,
     "metadata": {},
     "output_type": "execute_result"
    }
   ],
   "source": [
    "imghdr.what('/home/nmit/Downloads/bird1.png')"
   ]
  },
  {
   "cell_type": "code",
   "execution_count": 12,
   "id": "4f9b8c37-d692-47ad-b52b-2be4ea661b85",
   "metadata": {},
   "outputs": [
    {
     "data": {
      "text/plain": [
       "'gif'"
      ]
     },
     "execution_count": 12,
     "metadata": {},
     "output_type": "execute_result"
    }
   ],
   "source": [
    "imghdr.what('/home/nmit/Downloads/bird1.gif')"
   ]
  },
  {
   "cell_type": "code",
   "execution_count": 14,
   "id": "565bf612-ff0f-4871-9a10-a225ed36124b",
   "metadata": {},
   "outputs": [
    {
     "data": {
      "text/plain": [
       "'tiff'"
      ]
     },
     "execution_count": 14,
     "metadata": {},
     "output_type": "execute_result"
    }
   ],
   "source": [
    "imghdr.what('/home/nmit/Downloads/bird1.tiff')"
   ]
  },
  {
   "cell_type": "code",
   "execution_count": null,
   "id": "4eba81aa-3053-4051-86f8-e00a79efbdb5",
   "metadata": {},
   "outputs": [],
   "source": []
  }
 ],
 "metadata": {
  "kernelspec": {
   "display_name": "Python 3 (ipykernel)",
   "language": "python",
   "name": "python3"
  },
  "language_info": {
   "codemirror_mode": {
    "name": "ipython",
    "version": 3
   },
   "file_extension": ".py",
   "mimetype": "text/x-python",
   "name": "python",
   "nbconvert_exporter": "python",
   "pygments_lexer": "ipython3",
   "version": "3.11.5"
  }
 },
 "nbformat": 4,
 "nbformat_minor": 5
}
