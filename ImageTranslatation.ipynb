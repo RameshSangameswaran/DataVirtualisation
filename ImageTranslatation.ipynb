{
 "cells": [
  {
   "cell_type": "code",
   "execution_count": 2,
   "id": "191c62d3-ba75-40bc-9ed0-cb5cb346bebc",
   "metadata": {},
   "outputs": [],
   "source": [
    "import cv2 \n",
    "import numpy as np\n",
    " \n",
    "# read the image \n",
    "image = cv2.imread('/home/nmit/Downloads/house.jpg')\n",
    "# get the width and height of the image\n",
    "height, width = image.shape[:2]"
   ]
  },
  {
   "cell_type": "code",
   "execution_count": 3,
   "id": "80decf23-674a-4667-b644-e23c4ee9d60a",
   "metadata": {},
   "outputs": [],
   "source": [
    "\t\n",
    "# get tx and ty values for translation\n",
    "# you can specify any value of your choice\n",
    "tx, ty = width / 4, height / 4\n",
    " \n",
    "# create the translation matrix using tx and ty, it is a NumPy array \n",
    "translation_matrix = np.array([\n",
    "    [1, 0, tx],\n",
    "    [0, 1, ty]\n",
    "], dtype=np.float32)"
   ]
  },
  {
   "cell_type": "code",
   "execution_count": 4,
   "id": "f745eab4-c743-434e-a6d7-2643e83d63b6",
   "metadata": {},
   "outputs": [],
   "source": [
    "# apply the translation to the image\n",
    "translated_image = cv2.warpAffine(src=image, M=translation_matrix, dsize=(width, height))"
   ]
  },
  {
   "cell_type": "code",
   "execution_count": null,
   "id": "9f6d7bc1-6adb-4480-b9a3-1cc9f407c6a7",
   "metadata": {},
   "outputs": [],
   "source": [
    "# display the original and the Translated images\n",
    "cv2.imshow('Translated image', translated_image)\n",
    "cv2.imshow('Original image', image)\n",
    "cv2.waitKey(0)\n",
    "# save the translated image to disk\n",
    "cv2.imwrite('translated_image.jpg', translated_image)"
   ]
  },
  {
   "cell_type": "code",
   "execution_count": null,
   "id": "b4d920ad-4a9e-40d4-ab32-25c36ac31923",
   "metadata": {},
   "outputs": [],
   "source": []
  }
 ],
 "metadata": {
  "kernelspec": {
   "display_name": "Python 3 (ipykernel)",
   "language": "python",
   "name": "python3"
  },
  "language_info": {
   "codemirror_mode": {
    "name": "ipython",
    "version": 3
   },
   "file_extension": ".py",
   "mimetype": "text/x-python",
   "name": "python",
   "nbconvert_exporter": "python",
   "pygments_lexer": "ipython3",
   "version": "3.11.5"
  }
 },
 "nbformat": 4,
 "nbformat_minor": 5
}
