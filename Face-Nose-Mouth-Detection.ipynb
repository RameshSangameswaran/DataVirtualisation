{
 "cells": [
  {
   "cell_type": "code",
   "execution_count": 1,
   "id": "1b5ebc8a-3fa3-46b7-adbd-c5f38d6d3019",
   "metadata": {},
   "outputs": [],
   "source": [
    "import cv2"
   ]
  },
  {
   "cell_type": "code",
   "execution_count": 2,
   "id": "00176dc4-ac5b-4dc5-84e8-c0693db8464d",
   "metadata": {},
   "outputs": [],
   "source": [
    "#load the xml files for face, eye and mouth detection into the program\n",
    "face_cascade=cv2.CascadeClassifier('/home/nmit/Documents/haarcascade_frontalface_default.xml')\n",
    "eye_cascade = cv2.CascadeClassifier('/home/nmit/Documents/haarcascade_eye.xml')\n",
    "mouth_cascade = cv2.CascadeClassifier('/home/nmit/Documents/haarcascade_mcs_mouth.xml')\n",
    "nose_cascade = cv2.CascadeClassifier('/home/nmit/Documents/nose.xml')"
   ]
  },
  {
   "cell_type": "code",
   "execution_count": 4,
   "id": "6fe8cf70-0e00-4d43-afa9-32c94767596b",
   "metadata": {},
   "outputs": [],
   "source": [
    "#read the image for furthur editing\n",
    "image = cv2.imread('/home/nmit/Downloads/face-nose-mouth.jpg')"
   ]
  },
  {
   "cell_type": "code",
   "execution_count": 6,
   "id": "dee95f99-c651-40e4-aea4-600b437f12db",
   "metadata": {},
   "outputs": [
    {
     "data": {
      "text/plain": [
       "-1"
      ]
     },
     "execution_count": 6,
     "metadata": {},
     "output_type": "execute_result"
    }
   ],
   "source": [
    "#show the original image\n",
    "cv2.imshow('Original image', image)\n",
    "cv2.waitKey(10)"
   ]
  },
  {
   "cell_type": "code",
   "execution_count": 7,
   "id": "1d5d2cef-6fcd-4a42-a593-a168fad99533",
   "metadata": {},
   "outputs": [],
   "source": [
    "#convert the RBG image to gray scale image\n",
    "gray_image = cv2.cvtColor(image, cv2.COLOR_BGR2GRAY)"
   ]
  },
  {
   "cell_type": "code",
   "execution_count": 9,
   "id": "fe363e67-b43b-4e05-b563-8aee8de507e2",
   "metadata": {},
   "outputs": [],
   "source": [
    "#identify the face using haar-based classifiers\n",
    "faces = face_cascade.detectMultiScale(image, 1.4, 4)"
   ]
  },
  {
   "cell_type": "code",
   "execution_count": 10,
   "id": "9884f6f9-ee6e-4fdd-a126-0b7368a8570f",
   "metadata": {},
   "outputs": [],
   "source": [
    "#iteration through the faces array and draw a rectangle\n",
    "for(x, y, w, h) in faces:\n",
    "    cv2.rectangle(image, (x, y), (x+w, y+h), (0, 0, 255), 2)\n",
    "    roi_gray = gray_image[y:y+h, x:x+w]\n",
    "    roi_color = image[y:y+h, x:x+w]"
   ]
  },
  {
   "cell_type": "code",
   "execution_count": 13,
   "id": "bc4eebe4-a1ab-4396-9958-61613c4e0013",
   "metadata": {},
   "outputs": [],
   "source": [
    " #identify the eyes and mouth using haar-based classifiers\n",
    "eyes = eye_cascade.detectMultiScale(gray_image, 1.3, 5)\n",
    "mouth = mouth_cascade.detectMultiScale(gray_image, 1.5, 11)"
   ]
  },
  {
   "cell_type": "code",
   "execution_count": 16,
   "id": "be498fee-186a-4dd6-be34-95e585028373",
   "metadata": {},
   "outputs": [],
   "source": [
    "#iteration through the eyes and mouth array and draw a rectangl\n",
    "for(ex, ey, ew, eh) in eyes:\n",
    "    cv2.rectangle(image,(ex, ey), (ex+ew, ey+eh), (0, 255, 0), 2)\n",
    "    for(mx, my, mw, mh) in mouth:\n",
    "        cv2.rectangle(image, (mx, my), (mx+mw, my+mh), (255, 0, 0), 2)"
   ]
  },
  {
   "cell_type": "code",
   "execution_count": null,
   "id": "08aa1b81-a17e-4ff3-9857-0e7295f599ca",
   "metadata": {},
   "outputs": [],
   "source": [
    "#show the final image after detection\n",
    "cv2.imshow('face, eyes and mouth detected image', image)\n",
    "cv2.waitKey()"
   ]
  },
  {
   "cell_type": "code",
   "execution_count": null,
   "id": "8a9bdbfe-8006-4098-90fc-334cc199d08c",
   "metadata": {},
   "outputs": [],
   "source": []
  }
 ],
 "metadata": {
  "kernelspec": {
   "display_name": "Python 3 (ipykernel)",
   "language": "python",
   "name": "python3"
  },
  "language_info": {
   "codemirror_mode": {
    "name": "ipython",
    "version": 3
   },
   "file_extension": ".py",
   "mimetype": "text/x-python",
   "name": "python",
   "nbconvert_exporter": "python",
   "pygments_lexer": "ipython3",
   "version": "3.11.5"
  }
 },
 "nbformat": 4,
 "nbformat_minor": 5
}
