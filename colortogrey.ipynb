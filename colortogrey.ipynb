{
 "cells": [
  {
   "cell_type": "code",
   "execution_count": 1,
   "id": "e40b62ba-94c1-472a-b855-5ff2d632050a",
   "metadata": {},
   "outputs": [],
   "source": [
    "import cv2 as cv\n",
    "import sys"
   ]
  },
  {
   "cell_type": "code",
   "execution_count": 2,
   "id": "b406f230-fc7e-41e6-991f-0001985a9a4c",
   "metadata": {},
   "outputs": [
    {
     "data": {
      "text/plain": [
       "array([[[38, 67, 82],\n",
       "        [38, 67, 82],\n",
       "        [38, 67, 82],\n",
       "        ...,\n",
       "        [26, 58, 53],\n",
       "        [26, 58, 53],\n",
       "        [26, 58, 53]],\n",
       "\n",
       "       [[37, 66, 81],\n",
       "        [37, 66, 81],\n",
       "        [37, 66, 81],\n",
       "        ...,\n",
       "        [26, 58, 53],\n",
       "        [26, 58, 53],\n",
       "        [26, 58, 53]],\n",
       "\n",
       "       [[37, 66, 81],\n",
       "        [37, 66, 81],\n",
       "        [37, 66, 81],\n",
       "        ...,\n",
       "        [26, 58, 53],\n",
       "        [26, 58, 53],\n",
       "        [26, 58, 53]],\n",
       "\n",
       "       ...,\n",
       "\n",
       "       [[22, 40, 39],\n",
       "        [22, 40, 39],\n",
       "        [22, 40, 39],\n",
       "        ...,\n",
       "        [45, 64, 71],\n",
       "        [45, 64, 71],\n",
       "        [45, 64, 71]],\n",
       "\n",
       "       [[21, 39, 40],\n",
       "        [21, 39, 40],\n",
       "        [21, 39, 40],\n",
       "        ...,\n",
       "        [45, 64, 71],\n",
       "        [45, 64, 71],\n",
       "        [45, 64, 71]],\n",
       "\n",
       "       [[21, 39, 40],\n",
       "        [21, 39, 40],\n",
       "        [21, 39, 40],\n",
       "        ...,\n",
       "        [45, 64, 71],\n",
       "        [45, 64, 71],\n",
       "        [45, 64, 71]]], dtype=uint8)"
      ]
     },
     "execution_count": 2,
     "metadata": {},
     "output_type": "execute_result"
    }
   ],
   "source": [
    "img = cv.imread('/home/nmit/Downloads/bird.jpg')\n",
    "img"
   ]
  },
  {
   "cell_type": "code",
   "execution_count": 3,
   "id": "2214c236-a879-4340-b424-e49256b65311",
   "metadata": {},
   "outputs": [],
   "source": [
    "if img is None:\n",
    "    sys.exit(\"Could not read the image.\")"
   ]
  },
  {
   "cell_type": "code",
   "execution_count": 4,
   "id": "b86791ee-c4e5-499e-b968-e4dfc61369db",
   "metadata": {},
   "outputs": [
    {
     "name": "stderr",
     "output_type": "stream",
     "text": [
      "libGL error: MESA-LOADER: failed to open iris: /usr/lib/dri/iris_dri.so: cannot open shared object file: No such file or directory (search paths /usr/lib/x86_64-linux-gnu/dri:\\$${ORIGIN}/dri:/usr/lib/dri, suffix _dri)\n",
      "libGL error: failed to load driver: iris\n",
      "libGL error: MESA-LOADER: failed to open iris: /usr/lib/dri/iris_dri.so: cannot open shared object file: No such file or directory (search paths /usr/lib/x86_64-linux-gnu/dri:\\$${ORIGIN}/dri:/usr/lib/dri, suffix _dri)\n",
      "libGL error: failed to load driver: iris\n",
      "libGL error: MESA-LOADER: failed to open swrast: /usr/lib/dri/swrast_dri.so: cannot open shared object file: No such file or directory (search paths /usr/lib/x86_64-linux-gnu/dri:\\$${ORIGIN}/dri:/usr/lib/dri, suffix _dri)\n",
      "libGL error: failed to load driver: swrast\n"
     ]
    },
    {
     "data": {
      "text/plain": [
       "-1"
      ]
     },
     "execution_count": 4,
     "metadata": {},
     "output_type": "execute_result"
    }
   ],
   "source": [
    "img1 = cv.imshow('Original Image', img)\n",
    "cv.waitKey(5)"
   ]
  },
  {
   "cell_type": "code",
   "execution_count": 6,
   "id": "14b4874d-1ef6-4bcf-b801-237938692548",
   "metadata": {},
   "outputs": [],
   "source": [
    "gray_img = cv.cvtColor(img, cv.COLOR_BGR2GRAY)"
   ]
  },
  {
   "cell_type": "code",
   "execution_count": 7,
   "id": "3102c738-266a-4ae2-be7c-6f76694a1e1c",
   "metadata": {},
   "outputs": [
    {
     "data": {
      "text/plain": [
       "-1"
      ]
     },
     "execution_count": 7,
     "metadata": {},
     "output_type": "execute_result"
    }
   ],
   "source": [
    "img2 = cv.imshow('grayed_bird', gray_img)\n",
    "cv.waitKey(5000)"
   ]
  },
  {
   "cell_type": "code",
   "execution_count": null,
   "id": "b5150661-1a49-4afa-84ec-be376666cf6c",
   "metadata": {},
   "outputs": [],
   "source": []
  }
 ],
 "metadata": {
  "kernelspec": {
   "display_name": "Python 3 (ipykernel)",
   "language": "python",
   "name": "python3"
  },
  "language_info": {
   "codemirror_mode": {
    "name": "ipython",
    "version": 3
   },
   "file_extension": ".py",
   "mimetype": "text/x-python",
   "name": "python",
   "nbconvert_exporter": "python",
   "pygments_lexer": "ipython3",
   "version": "3.11.5"
  }
 },
 "nbformat": 4,
 "nbformat_minor": 5
}
