{
 "cells": [
  {
   "cell_type": "code",
   "execution_count": 6,
   "id": "d65c6d55-f559-48b6-9fa6-62692d64fe75",
   "metadata": {},
   "outputs": [],
   "source": [
    "import cv2   \n",
    "\n",
    "# load image\n",
    "img = cv2.imread('/home/nmit/Downloads/library.jpg')"
   ]
  },
  {
   "cell_type": "code",
   "execution_count": 7,
   "id": "7acab810-a427-4c1d-aa48-37278b28c160",
   "metadata": {},
   "outputs": [],
   "source": [
    "##########################################\n",
    "# At first vertical devide image         #\n",
    "##########################################\n",
    "# start vertical devide image\n",
    "height = img.shape[0]\n",
    "width = img.shape[1]\n",
    "# Cut the image in half\n",
    "width_cutoff = width // 2\n",
    "left1 = img[:, :width_cutoff]\n",
    "right1 = img[:, width_cutoff:]\n",
    "# finish vertical devide image"
   ]
  },
  {
   "cell_type": "code",
   "execution_count": 8,
   "id": "fcc0dbb4-7df4-46bf-8d6b-93c11ff69bf6",
   "metadata": {},
   "outputs": [
    {
     "data": {
      "text/plain": [
       "True"
      ]
     },
     "execution_count": 8,
     "metadata": {},
     "output_type": "execute_result"
    }
   ],
   "source": [
    "##########################################\n",
    "# At first Horizontal devide left1 image #\n",
    "##########################################\n",
    "#rotate image LEFT1 to 90 CLOCKWISE\n",
    "img = cv2.rotate(left1, cv2.ROTATE_90_CLOCKWISE)\n",
    "# start vertical devide image\n",
    "height = img.shape[0]\n",
    "width = img.shape[1]\n",
    "# Cut the image in half\n",
    "width_cutoff = width // 2\n",
    "l2 = img[:, :width_cutoff]\n",
    "l1 = img[:, width_cutoff:]\n",
    "# finish vertical devide image\n",
    "#rotate image to 90 COUNTERCLOCKWISE\n",
    "l2 = cv2.rotate(l2, cv2.ROTATE_90_COUNTERCLOCKWISE)\n",
    "#save\n",
    "cv2.imwrite(\"library_left_2.jpg\", l2)\n",
    "#rotate image to 90 COUNTERCLOCKWISE\n",
    "l1 = cv2.rotate(l1, cv2.ROTATE_90_COUNTERCLOCKWISE)\n",
    "#save\n",
    "cv2.imwrite(\"library_left_1.jpg\", l1)"
   ]
  },
  {
   "cell_type": "code",
   "execution_count": 9,
   "id": "5dfbacea-9f7e-455d-8b22-1fc0d644c699",
   "metadata": {},
   "outputs": [
    {
     "data": {
      "text/plain": [
       "True"
      ]
     },
     "execution_count": 9,
     "metadata": {},
     "output_type": "execute_result"
    }
   ],
   "source": [
    "##########################################\n",
    "# At first Horizontal devide right1 image#\n",
    "##########################################\n",
    "#rotate image RIGHT1 to 90 CLOCKWISE\n",
    "img = cv2.rotate(right1, cv2.ROTATE_90_CLOCKWISE)\n",
    "# start vertical devide image\n",
    "height = img.shape[0]\n",
    "width = img.shape[1]\n",
    "# Cut the image in half\n",
    "width_cutoff = width // 2\n",
    "r4 = img[:, :width_cutoff]\n",
    "r3 = img[:, width_cutoff:]\n",
    "# finish vertical devide image\n",
    "#rotate image to 90 COUNTERCLOCKWISE\n",
    "r4 = cv2.rotate(r4, cv2.ROTATE_90_COUNTERCLOCKWISE)\n",
    "#save\n",
    "cv2.imwrite(\"library_right_4.jpg\", r4)\n",
    "#rotate image to 90 COUNTERCLOCKWISE\n",
    "r3 = cv2.rotate(r3, cv2.ROTATE_90_COUNTERCLOCKWISE)\n",
    "#save\n",
    "cv2.imwrite(\"library_right_3.jpg\", r3)"
   ]
  },
  {
   "cell_type": "code",
   "execution_count": null,
   "id": "c4ea6ecc-4f75-43a1-a5f6-e245e3c4e81a",
   "metadata": {},
   "outputs": [],
   "source": []
  }
 ],
 "metadata": {
  "kernelspec": {
   "display_name": "Python 3 (ipykernel)",
   "language": "python",
   "name": "python3"
  },
  "language_info": {
   "codemirror_mode": {
    "name": "ipython",
    "version": 3
   },
   "file_extension": ".py",
   "mimetype": "text/x-python",
   "name": "python",
   "nbconvert_exporter": "python",
   "pygments_lexer": "ipython3",
   "version": "3.11.5"
  }
 },
 "nbformat": 4,
 "nbformat_minor": 5
}
